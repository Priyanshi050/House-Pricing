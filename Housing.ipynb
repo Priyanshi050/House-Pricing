{
 "cells": [
  {
   "cell_type": "code",
   "execution_count": 1,
   "id": "eb2a3173",
   "metadata": {},
   "outputs": [],
   "source": [
    "import numpy as np\n",
    "import pandas as pd\n",
    "import seaborn as sns\n",
    "import matplotlib.pyplot as plt\n",
    "import scipy.stats as stats\n",
    "import warnings\n",
    "warnings.filterwarnings('ignore')"
   ]
  },
  {
   "cell_type": "code",
   "execution_count": 2,
   "id": "88f8237b",
   "metadata": {},
   "outputs": [],
   "source": [
    "data = pd.read_csv('housing data.csv')"
   ]
  },
  {
   "cell_type": "code",
   "execution_count": 3,
   "id": "bfcef589",
   "metadata": {},
   "outputs": [
    {
     "data": {
      "text/html": [
       "<div>\n",
       "<style scoped>\n",
       "    .dataframe tbody tr th:only-of-type {\n",
       "        vertical-align: middle;\n",
       "    }\n",
       "\n",
       "    .dataframe tbody tr th {\n",
       "        vertical-align: top;\n",
       "    }\n",
       "\n",
       "    .dataframe thead th {\n",
       "        text-align: right;\n",
       "    }\n",
       "</style>\n",
       "<table border=\"1\" class=\"dataframe\">\n",
       "  <thead>\n",
       "    <tr style=\"text-align: right;\">\n",
       "      <th></th>\n",
       "      <th>Id</th>\n",
       "      <th>OverallQual</th>\n",
       "      <th>YearBuilt</th>\n",
       "      <th>TotalBsmtSF</th>\n",
       "      <th>Electrical</th>\n",
       "      <th>GrLivArea</th>\n",
       "      <th>FullBath</th>\n",
       "      <th>GarageType</th>\n",
       "      <th>GarageCars</th>\n",
       "      <th>GarageArea</th>\n",
       "      <th>Fence</th>\n",
       "      <th>MiscFeature</th>\n",
       "      <th>SalePrice</th>\n",
       "    </tr>\n",
       "  </thead>\n",
       "  <tbody>\n",
       "    <tr>\n",
       "      <th>0</th>\n",
       "      <td>1</td>\n",
       "      <td>7</td>\n",
       "      <td>2003</td>\n",
       "      <td>856</td>\n",
       "      <td>SBrkr</td>\n",
       "      <td>1710</td>\n",
       "      <td>2</td>\n",
       "      <td>Attchd</td>\n",
       "      <td>2</td>\n",
       "      <td>548</td>\n",
       "      <td>NaN</td>\n",
       "      <td>NaN</td>\n",
       "      <td>208500</td>\n",
       "    </tr>\n",
       "    <tr>\n",
       "      <th>1</th>\n",
       "      <td>2</td>\n",
       "      <td>6</td>\n",
       "      <td>1976</td>\n",
       "      <td>1262</td>\n",
       "      <td>SBrkr</td>\n",
       "      <td>1262</td>\n",
       "      <td>2</td>\n",
       "      <td>Attchd</td>\n",
       "      <td>2</td>\n",
       "      <td>460</td>\n",
       "      <td>NaN</td>\n",
       "      <td>NaN</td>\n",
       "      <td>181500</td>\n",
       "    </tr>\n",
       "    <tr>\n",
       "      <th>2</th>\n",
       "      <td>3</td>\n",
       "      <td>7</td>\n",
       "      <td>2001</td>\n",
       "      <td>920</td>\n",
       "      <td>SBrkr</td>\n",
       "      <td>1786</td>\n",
       "      <td>2</td>\n",
       "      <td>Attchd</td>\n",
       "      <td>2</td>\n",
       "      <td>608</td>\n",
       "      <td>NaN</td>\n",
       "      <td>NaN</td>\n",
       "      <td>223500</td>\n",
       "    </tr>\n",
       "    <tr>\n",
       "      <th>3</th>\n",
       "      <td>4</td>\n",
       "      <td>7</td>\n",
       "      <td>1915</td>\n",
       "      <td>756</td>\n",
       "      <td>SBrkr</td>\n",
       "      <td>1717</td>\n",
       "      <td>1</td>\n",
       "      <td>Detchd</td>\n",
       "      <td>3</td>\n",
       "      <td>642</td>\n",
       "      <td>NaN</td>\n",
       "      <td>NaN</td>\n",
       "      <td>140000</td>\n",
       "    </tr>\n",
       "    <tr>\n",
       "      <th>4</th>\n",
       "      <td>5</td>\n",
       "      <td>8</td>\n",
       "      <td>2000</td>\n",
       "      <td>1145</td>\n",
       "      <td>SBrkr</td>\n",
       "      <td>2198</td>\n",
       "      <td>2</td>\n",
       "      <td>Attchd</td>\n",
       "      <td>3</td>\n",
       "      <td>836</td>\n",
       "      <td>NaN</td>\n",
       "      <td>NaN</td>\n",
       "      <td>250000</td>\n",
       "    </tr>\n",
       "  </tbody>\n",
       "</table>\n",
       "</div>"
      ],
      "text/plain": [
       "   Id  OverallQual  YearBuilt  TotalBsmtSF Electrical  GrLivArea  FullBath  \\\n",
       "0   1            7       2003          856      SBrkr       1710         2   \n",
       "1   2            6       1976         1262      SBrkr       1262         2   \n",
       "2   3            7       2001          920      SBrkr       1786         2   \n",
       "3   4            7       1915          756      SBrkr       1717         1   \n",
       "4   5            8       2000         1145      SBrkr       2198         2   \n",
       "\n",
       "  GarageType  GarageCars  GarageArea Fence MiscFeature  SalePrice  \n",
       "0     Attchd           2         548   NaN         NaN     208500  \n",
       "1     Attchd           2         460   NaN         NaN     181500  \n",
       "2     Attchd           2         608   NaN         NaN     223500  \n",
       "3     Detchd           3         642   NaN         NaN     140000  \n",
       "4     Attchd           3         836   NaN         NaN     250000  "
      ]
     },
     "execution_count": 3,
     "metadata": {},
     "output_type": "execute_result"
    }
   ],
   "source": [
    "data.head()"
   ]
  },
  {
   "cell_type": "code",
   "execution_count": 4,
   "id": "5b81ec96",
   "metadata": {},
   "outputs": [
    {
     "name": "stdout",
     "output_type": "stream",
     "text": [
      "Rows: 1418\n",
      "Columns: 13\n"
     ]
    }
   ],
   "source": [
    "# Shape of the data\n",
    "print('Rows:',data.shape[0])\n",
    "print('Columns:',data.shape[1])"
   ]
  },
  {
   "cell_type": "code",
   "execution_count": 5,
   "id": "e11ef368",
   "metadata": {},
   "outputs": [
    {
     "name": "stdout",
     "output_type": "stream",
     "text": [
      "<class 'pandas.core.frame.DataFrame'>\n",
      "RangeIndex: 1418 entries, 0 to 1417\n",
      "Data columns (total 13 columns):\n",
      " #   Column       Non-Null Count  Dtype \n",
      "---  ------       --------------  ----- \n",
      " 0   Id           1418 non-null   int64 \n",
      " 1   OverallQual  1418 non-null   int64 \n",
      " 2   YearBuilt    1418 non-null   int64 \n",
      " 3   TotalBsmtSF  1418 non-null   int64 \n",
      " 4   Electrical   1417 non-null   object\n",
      " 5   GrLivArea    1418 non-null   int64 \n",
      " 6   FullBath     1418 non-null   int64 \n",
      " 7   GarageType   1275 non-null   object\n",
      " 8   GarageCars   1418 non-null   int64 \n",
      " 9   GarageArea   1418 non-null   int64 \n",
      " 10  Fence        270 non-null    object\n",
      " 11  MiscFeature  52 non-null     object\n",
      " 12  SalePrice    1418 non-null   int64 \n",
      "dtypes: int64(9), object(4)\n",
      "memory usage: 144.1+ KB\n"
     ]
    }
   ],
   "source": [
    "# Information about columns\n",
    "data.info()"
   ]
  },
  {
   "cell_type": "markdown",
   "id": "98b8236c",
   "metadata": {},
   "source": [
    "From the above info we can see that there are few missing values in electrical, Garage type and lot of missing values in Fence and Misc Feature"
   ]
  },
  {
   "cell_type": "code",
   "execution_count": 6,
   "id": "f9bb1eb2",
   "metadata": {},
   "outputs": [],
   "source": [
    "# Since OveralQual, FullBath, GarageCars are numbers but they represent a \n",
    "# categorical data. Lets convert them to object datatype\n",
    "for i in ['OverallQual','FullBath','GarageCars']:\n",
    "    data[i] = data[i].astype(object)"
   ]
  },
  {
   "cell_type": "code",
   "execution_count": 7,
   "id": "c9a1e149",
   "metadata": {},
   "outputs": [],
   "source": [
    "# Lets drop ID since its just an index value from 1 to 1418\n",
    "del data['Id']"
   ]
  },
  {
   "cell_type": "code",
   "execution_count": 8,
   "id": "dcf87040",
   "metadata": {},
   "outputs": [
    {
     "name": "stdout",
     "output_type": "stream",
     "text": [
      "<class 'pandas.core.frame.DataFrame'>\n",
      "RangeIndex: 1418 entries, 0 to 1417\n",
      "Data columns (total 12 columns):\n",
      " #   Column       Non-Null Count  Dtype \n",
      "---  ------       --------------  ----- \n",
      " 0   OverallQual  1418 non-null   object\n",
      " 1   YearBuilt    1418 non-null   int64 \n",
      " 2   TotalBsmtSF  1418 non-null   int64 \n",
      " 3   Electrical   1417 non-null   object\n",
      " 4   GrLivArea    1418 non-null   int64 \n",
      " 5   FullBath     1418 non-null   object\n",
      " 6   GarageType   1275 non-null   object\n",
      " 7   GarageCars   1418 non-null   object\n",
      " 8   GarageArea   1418 non-null   int64 \n",
      " 9   Fence        270 non-null    object\n",
      " 10  MiscFeature  52 non-null     object\n",
      " 11  SalePrice    1418 non-null   int64 \n",
      "dtypes: int64(5), object(7)\n",
      "memory usage: 133.1+ KB\n"
     ]
    }
   ],
   "source": [
    "data.info()"
   ]
  },
  {
   "cell_type": "code",
   "execution_count": 9,
   "id": "0292c7b5",
   "metadata": {},
   "outputs": [
    {
     "data": {
      "text/html": [
       "<div>\n",
       "<style scoped>\n",
       "    .dataframe tbody tr th:only-of-type {\n",
       "        vertical-align: middle;\n",
       "    }\n",
       "\n",
       "    .dataframe tbody tr th {\n",
       "        vertical-align: top;\n",
       "    }\n",
       "\n",
       "    .dataframe thead th {\n",
       "        text-align: right;\n",
       "    }\n",
       "</style>\n",
       "<table border=\"1\" class=\"dataframe\">\n",
       "  <thead>\n",
       "    <tr style=\"text-align: right;\">\n",
       "      <th></th>\n",
       "      <th>count</th>\n",
       "      <th>mean</th>\n",
       "      <th>std</th>\n",
       "      <th>min</th>\n",
       "      <th>25%</th>\n",
       "      <th>50%</th>\n",
       "      <th>75%</th>\n",
       "      <th>max</th>\n",
       "    </tr>\n",
       "  </thead>\n",
       "  <tbody>\n",
       "    <tr>\n",
       "      <th>YearBuilt</th>\n",
       "      <td>1418.0</td>\n",
       "      <td>1971.600846</td>\n",
       "      <td>30.064293</td>\n",
       "      <td>1872.0</td>\n",
       "      <td>1954.00</td>\n",
       "      <td>1973.0</td>\n",
       "      <td>2001.0</td>\n",
       "      <td>2010.0</td>\n",
       "    </tr>\n",
       "    <tr>\n",
       "      <th>TotalBsmtSF</th>\n",
       "      <td>1418.0</td>\n",
       "      <td>1061.712271</td>\n",
       "      <td>437.277589</td>\n",
       "      <td>0.0</td>\n",
       "      <td>796.50</td>\n",
       "      <td>994.0</td>\n",
       "      <td>1303.5</td>\n",
       "      <td>6110.0</td>\n",
       "    </tr>\n",
       "    <tr>\n",
       "      <th>GrLivArea</th>\n",
       "      <td>1418.0</td>\n",
       "      <td>1519.645275</td>\n",
       "      <td>527.412584</td>\n",
       "      <td>334.0</td>\n",
       "      <td>1132.50</td>\n",
       "      <td>1468.5</td>\n",
       "      <td>1786.0</td>\n",
       "      <td>5642.0</td>\n",
       "    </tr>\n",
       "    <tr>\n",
       "      <th>GarageArea</th>\n",
       "      <td>1418.0</td>\n",
       "      <td>472.617772</td>\n",
       "      <td>216.068677</td>\n",
       "      <td>0.0</td>\n",
       "      <td>324.25</td>\n",
       "      <td>478.0</td>\n",
       "      <td>576.0</td>\n",
       "      <td>1418.0</td>\n",
       "    </tr>\n",
       "    <tr>\n",
       "      <th>SalePrice</th>\n",
       "      <td>1418.0</td>\n",
       "      <td>182089.485896</td>\n",
       "      <td>79970.934085</td>\n",
       "      <td>34900.0</td>\n",
       "      <td>130000.00</td>\n",
       "      <td>164800.0</td>\n",
       "      <td>215000.0</td>\n",
       "      <td>755000.0</td>\n",
       "    </tr>\n",
       "  </tbody>\n",
       "</table>\n",
       "</div>"
      ],
      "text/plain": [
       "              count           mean           std      min        25%  \\\n",
       "YearBuilt    1418.0    1971.600846     30.064293   1872.0    1954.00   \n",
       "TotalBsmtSF  1418.0    1061.712271    437.277589      0.0     796.50   \n",
       "GrLivArea    1418.0    1519.645275    527.412584    334.0    1132.50   \n",
       "GarageArea   1418.0     472.617772    216.068677      0.0     324.25   \n",
       "SalePrice    1418.0  182089.485896  79970.934085  34900.0  130000.00   \n",
       "\n",
       "                  50%       75%       max  \n",
       "YearBuilt      1973.0    2001.0    2010.0  \n",
       "TotalBsmtSF     994.0    1303.5    6110.0  \n",
       "GrLivArea      1468.5    1786.0    5642.0  \n",
       "GarageArea      478.0     576.0    1418.0  \n",
       "SalePrice    164800.0  215000.0  755000.0  "
      ]
     },
     "execution_count": 9,
     "metadata": {},
     "output_type": "execute_result"
    }
   ],
   "source": [
    "# lets look at the description of the data\n",
    "data.describe().T"
   ]
  },
  {
   "cell_type": "markdown",
   "id": "3ffc579e",
   "metadata": {},
   "source": [
    "From the five point summary we can get a hint of outliers in TotalBasmtSF, GrLivArea, GarageArea,\n",
    "SalePrice"
   ]
  },
  {
   "cell_type": "code",
   "execution_count": 10,
   "id": "eff356b7",
   "metadata": {},
   "outputs": [
    {
     "data": {
      "text/html": [
       "<div>\n",
       "<style scoped>\n",
       "    .dataframe tbody tr th:only-of-type {\n",
       "        vertical-align: middle;\n",
       "    }\n",
       "\n",
       "    .dataframe tbody tr th {\n",
       "        vertical-align: top;\n",
       "    }\n",
       "\n",
       "    .dataframe thead th {\n",
       "        text-align: right;\n",
       "    }\n",
       "</style>\n",
       "<table border=\"1\" class=\"dataframe\">\n",
       "  <thead>\n",
       "    <tr style=\"text-align: right;\">\n",
       "      <th></th>\n",
       "      <th>count</th>\n",
       "      <th>unique</th>\n",
       "      <th>top</th>\n",
       "      <th>freq</th>\n",
       "    </tr>\n",
       "  </thead>\n",
       "  <tbody>\n",
       "    <tr>\n",
       "      <th>OverallQual</th>\n",
       "      <td>1418</td>\n",
       "      <td>10</td>\n",
       "      <td>5</td>\n",
       "      <td>380</td>\n",
       "    </tr>\n",
       "    <tr>\n",
       "      <th>Electrical</th>\n",
       "      <td>1417</td>\n",
       "      <td>5</td>\n",
       "      <td>SBrkr</td>\n",
       "      <td>1300</td>\n",
       "    </tr>\n",
       "    <tr>\n",
       "      <th>FullBath</th>\n",
       "      <td>1418</td>\n",
       "      <td>4</td>\n",
       "      <td>2</td>\n",
       "      <td>747</td>\n",
       "    </tr>\n",
       "    <tr>\n",
       "      <th>GarageType</th>\n",
       "      <td>1275</td>\n",
       "      <td>6</td>\n",
       "      <td>Attchd</td>\n",
       "      <td>800</td>\n",
       "    </tr>\n",
       "    <tr>\n",
       "      <th>GarageCars</th>\n",
       "      <td>1418</td>\n",
       "      <td>5</td>\n",
       "      <td>2</td>\n",
       "      <td>787</td>\n",
       "    </tr>\n",
       "    <tr>\n",
       "      <th>Fence</th>\n",
       "      <td>270</td>\n",
       "      <td>4</td>\n",
       "      <td>MnPrv</td>\n",
       "      <td>148</td>\n",
       "    </tr>\n",
       "    <tr>\n",
       "      <th>MiscFeature</th>\n",
       "      <td>52</td>\n",
       "      <td>4</td>\n",
       "      <td>Shed</td>\n",
       "      <td>47</td>\n",
       "    </tr>\n",
       "  </tbody>\n",
       "</table>\n",
       "</div>"
      ],
      "text/plain": [
       "            count unique     top  freq\n",
       "OverallQual  1418     10       5   380\n",
       "Electrical   1417      5   SBrkr  1300\n",
       "FullBath     1418      4       2   747\n",
       "GarageType   1275      6  Attchd   800\n",
       "GarageCars   1418      5       2   787\n",
       "Fence         270      4   MnPrv   148\n",
       "MiscFeature    52      4    Shed    47"
      ]
     },
     "execution_count": 10,
     "metadata": {},
     "output_type": "execute_result"
    }
   ],
   "source": [
    "data.describe(include=object).T"
   ]
  },
  {
   "cell_type": "code",
   "execution_count": 11,
   "id": "25d9df31",
   "metadata": {},
   "outputs": [
    {
     "data": {
      "image/png": "[encoded data removed]",
      "text/plain": [
       "<Figure size 504x360 with 2 Axes>"
      ]
     },
     "metadata": {
      "needs_background": "light"
     },
     "output_type": "display_data"
    }
   ],
   "source": [
    "# Corelation Heatmap\n",
    "#plt.rcParams['figure.figsize']=(7,5)\n",
    "plt.figure(figsize=(7,5))\n",
    "sns.heatmap(data.corr(),annot=True,vmax=1,vmin=-1)\n",
    "plt.show()"
   ]
  },
  {
   "cell_type": "code",
   "execution_count": 12,
   "id": "0286ab22",
   "metadata": {},
   "outputs": [],
   "source": [
    "# Inferences:"
   ]
  },
  {
   "cell_type": "code",
   "execution_count": 13,
   "id": "ae7d8a5c",
   "metadata": {},
   "outputs": [
    {
     "data": {
      "image/png": "[encoded data removed]",
      "text/plain": [
       "<Figure size 504x360 with 2 Axes>"
      ]
     },
     "metadata": {
      "needs_background": "light"
     },
     "output_type": "display_data"
    }
   ],
   "source": [
    "plt.figure(figsize=(7,5))\n",
    "sns.heatmap(data.corr()[(data.corr()>0.5)|(data.corr()<-0.5)],annot=True,vmax=1,vmin=-1)\n",
    "plt.show()"
   ]
  },
  {
   "cell_type": "code",
   "execution_count": 14,
   "id": "263a0291",
   "metadata": {},
   "outputs": [
    {
     "data": {
      "text/plain": [
       "YearBuilt       1.524867\n",
       "TotalBsmtSF    41.186073\n",
       "GrLivArea      34.706296\n",
       "GarageArea     45.717425\n",
       "SalePrice      43.918480\n",
       "dtype: float64"
      ]
     },
     "execution_count": 14,
     "metadata": {},
     "output_type": "execute_result"
    }
   ],
   "source": [
    "# Lets look at the coefficient of variance in columns\n",
    "(data.select_dtypes(np.number).std()/data.select_dtypes(np.number).mean())*100"
   ]
  },
  {
   "cell_type": "code",
   "execution_count": 15,
   "id": "32c39f9d",
   "metadata": {},
   "outputs": [],
   "source": [
    "# inferences:"
   ]
  },
  {
   "cell_type": "markdown",
   "id": "b6f375da",
   "metadata": {},
   "source": [
    "## UNIVARIATE ANALYSIS"
   ]
  },
  {
   "cell_type": "code",
   "execution_count": 16,
   "id": "614253aa",
   "metadata": {},
   "outputs": [
    {
     "name": "stdout",
     "output_type": "stream",
     "text": [
      "<class 'pandas.core.frame.DataFrame'>\n",
      "RangeIndex: 1418 entries, 0 to 1417\n",
      "Data columns (total 5 columns):\n",
      " #   Column       Non-Null Count  Dtype\n",
      "---  ------       --------------  -----\n",
      " 0   YearBuilt    1418 non-null   int64\n",
      " 1   TotalBsmtSF  1418 non-null   int64\n",
      " 2   GrLivArea    1418 non-null   int64\n",
      " 3   GarageArea   1418 non-null   int64\n",
      " 4   SalePrice    1418 non-null   int64\n",
      "dtypes: int64(5)\n",
      "memory usage: 55.5 KB\n"
     ]
    }
   ],
   "source": [
    "# Take the number columns\n",
    "data.select_dtypes(np.number).info()"
   ]
  },
  {
   "cell_type": "code",
   "execution_count": 17,
   "id": "1a9fc46d",
   "metadata": {},
   "outputs": [
    {
     "data": {
      "text/html": [
       "<div>\n",
       "<style scoped>\n",
       "    .dataframe tbody tr th:only-of-type {\n",
       "        vertical-align: middle;\n",
       "    }\n",
       "\n",
       "    .dataframe tbody tr th {\n",
       "        vertical-align: top;\n",
       "    }\n",
       "\n",
       "    .dataframe thead th {\n",
       "        text-align: right;\n",
       "    }\n",
       "</style>\n",
       "<table border=\"1\" class=\"dataframe\">\n",
       "  <thead>\n",
       "    <tr style=\"text-align: right;\">\n",
       "      <th></th>\n",
       "      <th>YearBuilt</th>\n",
       "      <th>TotalBsmtSF</th>\n",
       "      <th>GrLivArea</th>\n",
       "      <th>GarageArea</th>\n",
       "      <th>SalePrice</th>\n",
       "    </tr>\n",
       "  </thead>\n",
       "  <tbody>\n",
       "    <tr>\n",
       "      <th>0</th>\n",
       "      <td>2003</td>\n",
       "      <td>856</td>\n",
       "      <td>1710</td>\n",
       "      <td>548</td>\n",
       "      <td>208500</td>\n",
       "    </tr>\n",
       "    <tr>\n",
       "      <th>1</th>\n",
       "      <td>1976</td>\n",
       "      <td>1262</td>\n",
       "      <td>1262</td>\n",
       "      <td>460</td>\n",
       "      <td>181500</td>\n",
       "    </tr>\n",
       "    <tr>\n",
       "      <th>2</th>\n",
       "      <td>2001</td>\n",
       "      <td>920</td>\n",
       "      <td>1786</td>\n",
       "      <td>608</td>\n",
       "      <td>223500</td>\n",
       "    </tr>\n",
       "    <tr>\n",
       "      <th>3</th>\n",
       "      <td>1915</td>\n",
       "      <td>756</td>\n",
       "      <td>1717</td>\n",
       "      <td>642</td>\n",
       "      <td>140000</td>\n",
       "    </tr>\n",
       "    <tr>\n",
       "      <th>4</th>\n",
       "      <td>2000</td>\n",
       "      <td>1145</td>\n",
       "      <td>2198</td>\n",
       "      <td>836</td>\n",
       "      <td>250000</td>\n",
       "    </tr>\n",
       "  </tbody>\n",
       "</table>\n",
       "</div>"
      ],
      "text/plain": [
       "   YearBuilt  TotalBsmtSF  GrLivArea  GarageArea  SalePrice\n",
       "0       2003          856       1710         548     208500\n",
       "1       1976         1262       1262         460     181500\n",
       "2       2001          920       1786         608     223500\n",
       "3       1915          756       1717         642     140000\n",
       "4       2000         1145       2198         836     250000"
      ]
     },
     "execution_count": 17,
     "metadata": {},
     "output_type": "execute_result"
    }
   ],
   "source": [
    "data_num = data.select_dtypes(np.number)\n",
    "data_num.head()"
   ]
  },
  {
   "cell_type": "code",
   "execution_count": 18,
   "id": "ba77f8fb",
   "metadata": {},
   "outputs": [
    {
     "data": {
      "image/png": "[encoded data removed]",
      "text/plain": [
       "<Figure size 720x504 with 5 Axes>"
      ]
     },
     "metadata": {
      "needs_background": "light"
     },
     "output_type": "display_data"
    }
   ],
   "source": [
    "plt.figure(figsize=(10,7))\n",
    "t=1\n",
    "for i in data_num.columns:\n",
    "    plt.subplot(3,2,t)\n",
    "    sns.distplot(data[i])\n",
    "    plt.title('Skewness: %.2f'%(data[i].skew()))\n",
    "    t=t+1\n",
    "plt.tight_layout()\n",
    "plt.show()"
   ]
  },
  {
   "cell_type": "code",
   "execution_count": 19,
   "id": "e178e04a",
   "metadata": {},
   "outputs": [],
   "source": [
    "# Inferences: "
   ]
  },
  {
   "cell_type": "code",
   "execution_count": 20,
   "id": "4627ce1b",
   "metadata": {},
   "outputs": [
    {
     "data": {
      "image/png": "[encoded data removed]",
      "text/plain": [
       "<Figure size 720x504 with 5 Axes>"
      ]
     },
     "metadata": {
      "needs_background": "light"
     },
     "output_type": "display_data"
    }
   ],
   "source": [
    "plt.figure(figsize=(10,7))\n",
    "t=1\n",
    "for i in data_num.columns:\n",
    "    plt.subplot(3,2,t)\n",
    "    sns.boxplot(data[i],orient='h')\n",
    "    plt.title('%s: Skewness: %.2f'%(i,data[i].skew()))\n",
    "    t=t+1\n",
    "plt.tight_layout()\n",
    "plt.show()"
   ]
  },
  {
   "cell_type": "code",
   "execution_count": 21,
   "id": "1d3fe7a5",
   "metadata": {},
   "outputs": [],
   "source": [
    "# Inferences: "
   ]
  },
  {
   "cell_type": "code",
   "execution_count": 22,
   "id": "c19e31d7",
   "metadata": {},
   "outputs": [
    {
     "data": {
      "text/html": [
       "<div>\n",
       "<style scoped>\n",
       "    .dataframe tbody tr th:only-of-type {\n",
       "        vertical-align: middle;\n",
       "    }\n",
       "\n",
       "    .dataframe tbody tr th {\n",
       "        vertical-align: top;\n",
       "    }\n",
       "\n",
       "    .dataframe thead th {\n",
       "        text-align: right;\n",
       "    }\n",
       "</style>\n",
       "<table border=\"1\" class=\"dataframe\">\n",
       "  <thead>\n",
       "    <tr style=\"text-align: right;\">\n",
       "      <th></th>\n",
       "      <th>OverallQual</th>\n",
       "      <th>Electrical</th>\n",
       "      <th>FullBath</th>\n",
       "      <th>GarageType</th>\n",
       "      <th>GarageCars</th>\n",
       "      <th>Fence</th>\n",
       "      <th>MiscFeature</th>\n",
       "    </tr>\n",
       "  </thead>\n",
       "  <tbody>\n",
       "    <tr>\n",
       "      <th>0</th>\n",
       "      <td>7</td>\n",
       "      <td>SBrkr</td>\n",
       "      <td>2</td>\n",
       "      <td>Attchd</td>\n",
       "      <td>2</td>\n",
       "      <td>NaN</td>\n",
       "      <td>NaN</td>\n",
       "    </tr>\n",
       "    <tr>\n",
       "      <th>1</th>\n",
       "      <td>6</td>\n",
       "      <td>SBrkr</td>\n",
       "      <td>2</td>\n",
       "      <td>Attchd</td>\n",
       "      <td>2</td>\n",
       "      <td>NaN</td>\n",
       "      <td>NaN</td>\n",
       "    </tr>\n",
       "    <tr>\n",
       "      <th>2</th>\n",
       "      <td>7</td>\n",
       "      <td>SBrkr</td>\n",
       "      <td>2</td>\n",
       "      <td>Attchd</td>\n",
       "      <td>2</td>\n",
       "      <td>NaN</td>\n",
       "      <td>NaN</td>\n",
       "    </tr>\n",
       "    <tr>\n",
       "      <th>3</th>\n",
       "      <td>7</td>\n",
       "      <td>SBrkr</td>\n",
       "      <td>1</td>\n",
       "      <td>Detchd</td>\n",
       "      <td>3</td>\n",
       "      <td>NaN</td>\n",
       "      <td>NaN</td>\n",
       "    </tr>\n",
       "    <tr>\n",
       "      <th>4</th>\n",
       "      <td>8</td>\n",
       "      <td>SBrkr</td>\n",
       "      <td>2</td>\n",
       "      <td>Attchd</td>\n",
       "      <td>3</td>\n",
       "      <td>NaN</td>\n",
       "      <td>NaN</td>\n",
       "    </tr>\n",
       "  </tbody>\n",
       "</table>\n",
       "</div>"
      ],
      "text/plain": [
       "  OverallQual Electrical FullBath GarageType GarageCars Fence MiscFeature\n",
       "0           7      SBrkr        2     Attchd          2   NaN         NaN\n",
       "1           6      SBrkr        2     Attchd          2   NaN         NaN\n",
       "2           7      SBrkr        2     Attchd          2   NaN         NaN\n",
       "3           7      SBrkr        1     Detchd          3   NaN         NaN\n",
       "4           8      SBrkr        2     Attchd          3   NaN         NaN"
      ]
     },
     "execution_count": 22,
     "metadata": {},
     "output_type": "execute_result"
    }
   ],
   "source": [
    "# Lets take category columns\n",
    "data_cat = data.select_dtypes(object)\n",
    "data_cat.head()"
   ]
  },
  {
   "cell_type": "code",
   "execution_count": 23,
   "id": "bbb3070b",
   "metadata": {},
   "outputs": [
    {
     "data": {
      "image/png": "[encoded data removed]",
      "text/plain": [
       "<Figure size 864x720 with 7 Axes>"
      ]
     },
     "metadata": {
      "needs_background": "light"
     },
     "output_type": "display_data"
    }
   ],
   "source": [
    "plt.figure(figsize=(12,10))\n",
    "t=1\n",
    "for i in data_cat.columns:\n",
    "    plt.subplot(4,2,t)\n",
    "    sns.countplot(data=data,x=i)\n",
    "    t=t+1\n",
    "plt.tight_layout()\n",
    "plt.show()"
   ]
  },
  {
   "cell_type": "code",
   "execution_count": 24,
   "id": "72f3a675",
   "metadata": {},
   "outputs": [],
   "source": [
    "# inference"
   ]
  },
  {
   "cell_type": "markdown",
   "id": "ac9c4b8b",
   "metadata": {},
   "source": [
    "## BIVARIATE ANALYSIS"
   ]
  },
  {
   "cell_type": "code",
   "execution_count": 25,
   "id": "dd63b35f",
   "metadata": {},
   "outputs": [
    {
     "data": {
      "image/png": "[encoded data removed]",
      "text/plain": [
       "<Figure size 864x720 with 4 Axes>"
      ]
     },
     "metadata": {
      "needs_background": "light"
     },
     "output_type": "display_data"
    }
   ],
   "source": [
    "# Lets do Number vs Number analysis\n",
    "plt.figure(figsize=(12,10))\n",
    "t = 1\n",
    "for i in data_num.columns:\n",
    "    if i != 'SalePrice':\n",
    "        plt.subplot(2,2,t)\n",
    "        sns.regplot(x=data[i],y=data['SalePrice'],line_kws={'color':'red'},ci=0)\n",
    "    t+=1\n",
    "plt.tight_layout()\n",
    "plt.show()"
   ]
  },
  {
   "cell_type": "code",
   "execution_count": 26,
   "id": "68a74432",
   "metadata": {},
   "outputs": [],
   "source": [
    "# inferences: "
   ]
  },
  {
   "cell_type": "code",
   "execution_count": 27,
   "id": "a64a1ce6",
   "metadata": {},
   "outputs": [
    {
     "data": {
      "image/png": "[encoded data removed]",
      "text/plain": [
       "<Figure size 864x1080 with 7 Axes>"
      ]
     },
     "metadata": {
      "needs_background": "light"
     },
     "output_type": "display_data"
    }
   ],
   "source": [
    "# Lets do Number vs category analysis\n",
    "plt.figure(figsize=(12,15))\n",
    "t = 1\n",
    "for i in data_cat.columns:\n",
    "    plt.subplot(4,2,t)\n",
    "    sns.boxplot(data=data,x=i,y='SalePrice')\n",
    "    t+=1\n",
    "plt.tight_layout()\n",
    "plt.show()"
   ]
  },
  {
   "cell_type": "code",
   "execution_count": 28,
   "id": "fe29616a",
   "metadata": {},
   "outputs": [
    {
     "data": {
      "image/png": "[encoded data removed]",
      "text/plain": [
       "<Figure size 864x1080 with 7 Axes>"
      ]
     },
     "metadata": {
      "needs_background": "light"
     },
     "output_type": "display_data"
    }
   ],
   "source": [
    "plt.figure(figsize=(12,15))\n",
    "t = 1\n",
    "for i in data_cat.columns:\n",
    "    plt.subplot(4,2,t)\n",
    "    data.groupby(i)['SalePrice'].mean().plot(kind='bar')\n",
    "    t+=1\n",
    "plt.tight_layout()\n",
    "plt.show()"
   ]
  },
  {
   "cell_type": "markdown",
   "id": "5fcf35d2",
   "metadata": {},
   "source": [
    "## Statistical test"
   ]
  },
  {
   "cell_type": "code",
   "execution_count": 29,
   "id": "0b62a3b1",
   "metadata": {},
   "outputs": [],
   "source": [
    "# Target variable is mostly affected by:\n",
    "# GrLivArea\n",
    "# TotalBsmtsf\n",
    "# OverallQual\n",
    "# FullBath\n",
    "# GarageCars"
   ]
  },
  {
   "cell_type": "code",
   "execution_count": 30,
   "id": "32d6afea",
   "metadata": {},
   "outputs": [
    {
     "name": "stdout",
     "output_type": "stream",
     "text": [
      "SalePrice Reject the H0: Data is not normal\n",
      "GrLivArea Reject the H0: Data is not normal\n",
      "GrLivArea Reject the H0: Variances are not equal\n"
     ]
    }
   ],
   "source": [
    "# SalePrice vs GrLivArea\n",
    "\n",
    "# test the assumptions (Normality,equal variances)\n",
    "for i in ['SalePrice','GrLivArea']:\n",
    "    _,p = stats.shapiro(data[i])\n",
    "    if p<0.05:\n",
    "        print(i,'Reject the H0: Data is not normal')\n",
    "    else:\n",
    "        print(i,'Fail to reject H0: Data is normal')\n",
    "        \n",
    "\n",
    "_,p = stats.levene(data['SalePrice'],data['GrLivArea'])\n",
    "if p<0.05:\n",
    "    print(i,'Reject the H0: Variances are not equal')\n",
    "else:\n",
    "    print(i,'Fail to reject H0: Variances are equal')"
   ]
  },
  {
   "cell_type": "code",
   "execution_count": 31,
   "id": "f33c4b6c",
   "metadata": {},
   "outputs": [
    {
     "name": "stdout",
     "output_type": "stream",
     "text": [
      "Reject H0: There is relation between SalePrice and GrLivArea\n"
     ]
    }
   ],
   "source": [
    "# We will go with the non parametric test - mannwhitnyu\n",
    "# H0: mu1 = mu2 : There is no relation between SalePrice and GrLivArea\n",
    "# H1: mu1 != mu2 : There is relation between SalePrice and GrLivArea\n",
    "_,p=stats.mannwhitneyu(data['SalePrice'],data['GrLivArea'])\n",
    "if p<0.05:\n",
    "    print('Reject H0: There is relation between SalePrice and GrLivArea')\n",
    "else:\n",
    "    print('Fail to reject H0: There is no relation between SalePrice and GrLivArea')"
   ]
  },
  {
   "cell_type": "code",
   "execution_count": 32,
   "id": "5845869d",
   "metadata": {},
   "outputs": [
    {
     "name": "stdout",
     "output_type": "stream",
     "text": [
      "SalePrice Reject the H0: Data is not normal\n",
      "TotalBsmtSF Reject the H0: Data is not normal\n",
      "TotalBsmtSF Reject the H0: Variances are not equal\n"
     ]
    }
   ],
   "source": [
    "# SalePrice vs TotalBsmtSF\n",
    "\n",
    "# test the assumptions (Normality,equal variances)\n",
    "for i in ['SalePrice','TotalBsmtSF']:\n",
    "    _,p = stats.shapiro(data[i])\n",
    "    if p<0.05:\n",
    "        print(i,'Reject the H0: Data is not normal')\n",
    "    else:\n",
    "        print(i,'Fail to reject H0: Data is normal')\n",
    "        \n",
    "\n",
    "_,p = stats.levene(data['SalePrice'],data['TotalBsmtSF'])\n",
    "if p<0.05:\n",
    "    print(i,'Reject the H0: Variances are not equal')\n",
    "else:\n",
    "    print(i,'Fail to reject H0: Variances are equal')"
   ]
  },
  {
   "cell_type": "code",
   "execution_count": 33,
   "id": "76b808c5",
   "metadata": {},
   "outputs": [
    {
     "name": "stdout",
     "output_type": "stream",
     "text": [
      "Reject H0: There is relation between SalePrice and TotalBsmtSF\n"
     ]
    }
   ],
   "source": [
    "# We will go with the non parametric test - mannwhitnyu\n",
    "# H0: mu1 = mu2 : There is no relation between SalePrice and TotalBsmtSF\n",
    "# H1: mu1 != mu2 : There is relation between SalePrice and TotalBsmtSF\n",
    "_,p=stats.mannwhitneyu(data['SalePrice'],data['TotalBsmtSF'])\n",
    "if p<0.05:\n",
    "    print('Reject H0: There is relation between SalePrice and TotalBsmtSF')\n",
    "else:\n",
    "    print('Fail to reject H0: There is no relation between SalePrice and TotalBsmtSF')"
   ]
  },
  {
   "cell_type": "code",
   "execution_count": 34,
   "id": "fec8cd71",
   "metadata": {},
   "outputs": [
    {
     "name": "stdout",
     "output_type": "stream",
     "text": [
      "FullBath 0 Fail to reject H0: Data is normal\n",
      "FullBath 1 Reject the H0: Data is not normal\n",
      "FullBath 2 Reject the H0: Data is not normal\n",
      "FullBath 3 Reject the H0: Data is not normal\n",
      "Reject the H0: Variances are not equal\n"
     ]
    }
   ],
   "source": [
    "# Lets check wether there is any effect of FullBath on sale price\n",
    "\n",
    "# Lets check the assumptions\n",
    "\n",
    "for i in range(0,4):\n",
    "    _,p = stats.shapiro(data[data['FullBath']==i]['SalePrice'])\n",
    "    if p<0.05:\n",
    "        print('FullBath',i,'Reject the H0: Data is not normal')\n",
    "    else:\n",
    "        print('FullBath',i,'Fail to reject H0: Data is normal')\n",
    "        \n",
    "samp1 = data[data['FullBath']==0]['SalePrice']\n",
    "samp2 = data[data['FullBath']==1]['SalePrice']\n",
    "samp3 = data[data['FullBath']==2]['SalePrice']\n",
    "samp4 = data[data['FullBath']==3]['SalePrice']\n",
    "\n",
    "_,p = stats.levene(samp1,samp2,samp3,samp4)\n",
    "if p<0.05:\n",
    "    print('Reject the H0: Variances are not equal')\n",
    "else:\n",
    "    print('Fail to reject H0: Variances are equal')"
   ]
  },
  {
   "cell_type": "code",
   "execution_count": 35,
   "id": "c79e7f74",
   "metadata": {},
   "outputs": [
    {
     "name": "stdout",
     "output_type": "stream",
     "text": [
      "Reject H0: The fullbath has relation with Saleprice\n"
     ]
    }
   ],
   "source": [
    "# Assumptions does not meet we can go with non parametric test- kruskal Wallis\n",
    "# H0: The fullbath has no relation with Saleprice\n",
    "# H1: The fullbath has relation with Saleprice\n",
    "_,p = stats.kruskal(samp1,samp2,samp3,samp4)\n",
    "if p<0.05:\n",
    "    print('Reject H0: The fullbath has relation with Saleprice')\n",
    "else:\n",
    "    print('Fail to reject H0: The fullbath has no relation with Saleprice ')"
   ]
  },
  {
   "cell_type": "markdown",
   "id": "94539571",
   "metadata": {},
   "source": [
    "# DATA PREPROCESSING"
   ]
  },
  {
   "cell_type": "markdown",
   "id": "0d4ae6f9",
   "metadata": {},
   "source": [
    "## Missing Value Treatment"
   ]
  },
  {
   "cell_type": "code",
   "execution_count": 36,
   "id": "e71c9b89",
   "metadata": {},
   "outputs": [],
   "source": [
    "# You can perform these three steps to treat missing values\n",
    "# closest fit\n",
    "# central value (mean,median mode)\n",
    "# delete (when nan is very few in rows or very much in columns)"
   ]
  },
  {
   "cell_type": "code",
   "execution_count": 37,
   "id": "8d858a77",
   "metadata": {},
   "outputs": [
    {
     "data": {
      "text/plain": [
       "MiscFeature    96.332863\n",
       "Fence          80.959097\n",
       "GarageType     10.084626\n",
       "Electrical      0.070522\n",
       "OverallQual     0.000000\n",
       "YearBuilt       0.000000\n",
       "TotalBsmtSF     0.000000\n",
       "GrLivArea       0.000000\n",
       "FullBath        0.000000\n",
       "GarageCars      0.000000\n",
       "GarageArea      0.000000\n",
       "SalePrice       0.000000\n",
       "dtype: float64"
      ]
     },
     "execution_count": 37,
     "metadata": {},
     "output_type": "execute_result"
    }
   ],
   "source": [
    "# How much % data is missing in each column\n",
    "((data.isnull().sum()/data.shape[0])*100).sort_values(ascending=False)"
   ]
  },
  {
   "cell_type": "code",
   "execution_count": 38,
   "id": "b9dba6a0",
   "metadata": {},
   "outputs": [
    {
     "data": {
      "text/html": [
       "<div>\n",
       "<style scoped>\n",
       "    .dataframe tbody tr th:only-of-type {\n",
       "        vertical-align: middle;\n",
       "    }\n",
       "\n",
       "    .dataframe tbody tr th {\n",
       "        vertical-align: top;\n",
       "    }\n",
       "\n",
       "    .dataframe thead th {\n",
       "        text-align: right;\n",
       "    }\n",
       "</style>\n",
       "<table border=\"1\" class=\"dataframe\">\n",
       "  <thead>\n",
       "    <tr style=\"text-align: right;\">\n",
       "      <th></th>\n",
       "      <th>OverallQual</th>\n",
       "      <th>YearBuilt</th>\n",
       "      <th>TotalBsmtSF</th>\n",
       "      <th>Electrical</th>\n",
       "      <th>GrLivArea</th>\n",
       "      <th>FullBath</th>\n",
       "      <th>GarageType</th>\n",
       "      <th>GarageCars</th>\n",
       "      <th>GarageArea</th>\n",
       "      <th>Fence</th>\n",
       "      <th>MiscFeature</th>\n",
       "      <th>SalePrice</th>\n",
       "    </tr>\n",
       "  </thead>\n",
       "  <tbody>\n",
       "    <tr>\n",
       "      <th>1339</th>\n",
       "      <td>5</td>\n",
       "      <td>2006</td>\n",
       "      <td>384</td>\n",
       "      <td>NaN</td>\n",
       "      <td>1394</td>\n",
       "      <td>2</td>\n",
       "      <td>BuiltIn</td>\n",
       "      <td>2</td>\n",
       "      <td>400</td>\n",
       "      <td>NaN</td>\n",
       "      <td>NaN</td>\n",
       "      <td>167500</td>\n",
       "    </tr>\n",
       "  </tbody>\n",
       "</table>\n",
       "</div>"
      ],
      "text/plain": [
       "     OverallQual  YearBuilt  TotalBsmtSF Electrical  GrLivArea FullBath  \\\n",
       "1339           5       2006          384        NaN       1394        2   \n",
       "\n",
       "     GarageType GarageCars  GarageArea Fence MiscFeature  SalePrice  \n",
       "1339    BuiltIn          2         400   NaN         NaN     167500  "
      ]
     },
     "execution_count": 38,
     "metadata": {},
     "output_type": "execute_result"
    }
   ],
   "source": [
    "# Lets impute the values in electrical\n",
    "data[data['Electrical'].isnull()]"
   ]
  },
  {
   "cell_type": "code",
   "execution_count": 39,
   "id": "5bf4f06d",
   "metadata": {},
   "outputs": [
    {
     "data": {
      "text/plain": [
       "'SBrkr'"
      ]
     },
     "execution_count": 39,
     "metadata": {},
     "output_type": "execute_result"
    }
   ],
   "source": [
    "data['Electrical'].mode()[0]"
   ]
  },
  {
   "cell_type": "code",
   "execution_count": 40,
   "id": "eb06bb5d",
   "metadata": {},
   "outputs": [],
   "source": [
    "# lets inmpute theis value with mode\n",
    "data['Electrical'].fillna(data['Electrical'].mode()[0],inplace=True)"
   ]
  },
  {
   "cell_type": "code",
   "execution_count": 41,
   "id": "c59337cd",
   "metadata": {},
   "outputs": [
    {
     "data": {
      "text/html": [
       "<div>\n",
       "<style scoped>\n",
       "    .dataframe tbody tr th:only-of-type {\n",
       "        vertical-align: middle;\n",
       "    }\n",
       "\n",
       "    .dataframe tbody tr th {\n",
       "        vertical-align: top;\n",
       "    }\n",
       "\n",
       "    .dataframe thead th {\n",
       "        text-align: right;\n",
       "    }\n",
       "</style>\n",
       "<table border=\"1\" class=\"dataframe\">\n",
       "  <thead>\n",
       "    <tr style=\"text-align: right;\">\n",
       "      <th></th>\n",
       "      <th>OverallQual</th>\n",
       "      <th>YearBuilt</th>\n",
       "      <th>TotalBsmtSF</th>\n",
       "      <th>Electrical</th>\n",
       "      <th>GrLivArea</th>\n",
       "      <th>FullBath</th>\n",
       "      <th>GarageType</th>\n",
       "      <th>GarageCars</th>\n",
       "      <th>GarageArea</th>\n",
       "      <th>Fence</th>\n",
       "      <th>MiscFeature</th>\n",
       "      <th>SalePrice</th>\n",
       "    </tr>\n",
       "  </thead>\n",
       "  <tbody>\n",
       "    <tr>\n",
       "      <th>8</th>\n",
       "      <td>5</td>\n",
       "      <td>1939</td>\n",
       "      <td>991</td>\n",
       "      <td>SBrkr</td>\n",
       "      <td>1077</td>\n",
       "      <td>1</td>\n",
       "      <td>NaN</td>\n",
       "      <td>1</td>\n",
       "      <td>205</td>\n",
       "      <td>NaN</td>\n",
       "      <td>NaN</td>\n",
       "      <td>118000</td>\n",
       "    </tr>\n",
       "    <tr>\n",
       "      <th>22</th>\n",
       "      <td>5</td>\n",
       "      <td>1968</td>\n",
       "      <td>1060</td>\n",
       "      <td>SBrkr</td>\n",
       "      <td>1060</td>\n",
       "      <td>1</td>\n",
       "      <td>NaN</td>\n",
       "      <td>1</td>\n",
       "      <td>270</td>\n",
       "      <td>MnPrv</td>\n",
       "      <td>NaN</td>\n",
       "      <td>154000</td>\n",
       "    </tr>\n",
       "    <tr>\n",
       "      <th>26</th>\n",
       "      <td>5</td>\n",
       "      <td>1957</td>\n",
       "      <td>1484</td>\n",
       "      <td>SBrkr</td>\n",
       "      <td>1600</td>\n",
       "      <td>1</td>\n",
       "      <td>NaN</td>\n",
       "      <td>1</td>\n",
       "      <td>319</td>\n",
       "      <td>NaN</td>\n",
       "      <td>NaN</td>\n",
       "      <td>207500</td>\n",
       "    </tr>\n",
       "    <tr>\n",
       "      <th>37</th>\n",
       "      <td>4</td>\n",
       "      <td>1955</td>\n",
       "      <td>0</td>\n",
       "      <td>FuseP</td>\n",
       "      <td>1152</td>\n",
       "      <td>2</td>\n",
       "      <td>NaN</td>\n",
       "      <td>0</td>\n",
       "      <td>0</td>\n",
       "      <td>NaN</td>\n",
       "      <td>NaN</td>\n",
       "      <td>82000</td>\n",
       "    </tr>\n",
       "    <tr>\n",
       "      <th>39</th>\n",
       "      <td>5</td>\n",
       "      <td>1959</td>\n",
       "      <td>1350</td>\n",
       "      <td>SBrkr</td>\n",
       "      <td>1328</td>\n",
       "      <td>1</td>\n",
       "      <td>NaN</td>\n",
       "      <td>1</td>\n",
       "      <td>308</td>\n",
       "      <td>NaN</td>\n",
       "      <td>NaN</td>\n",
       "      <td>170000</td>\n",
       "    </tr>\n",
       "    <tr>\n",
       "      <th>...</th>\n",
       "      <td>...</td>\n",
       "      <td>...</td>\n",
       "      <td>...</td>\n",
       "      <td>...</td>\n",
       "      <td>...</td>\n",
       "      <td>...</td>\n",
       "      <td>...</td>\n",
       "      <td>...</td>\n",
       "      <td>...</td>\n",
       "      <td>...</td>\n",
       "      <td>...</td>\n",
       "      <td>...</td>\n",
       "    </tr>\n",
       "    <tr>\n",
       "      <th>1387</th>\n",
       "      <td>5</td>\n",
       "      <td>1940</td>\n",
       "      <td>788</td>\n",
       "      <td>SBrkr</td>\n",
       "      <td>804</td>\n",
       "      <td>1</td>\n",
       "      <td>NaN</td>\n",
       "      <td>1</td>\n",
       "      <td>240</td>\n",
       "      <td>MnPrv</td>\n",
       "      <td>NaN</td>\n",
       "      <td>119000</td>\n",
       "    </tr>\n",
       "    <tr>\n",
       "      <th>1407</th>\n",
       "      <td>5</td>\n",
       "      <td>1970</td>\n",
       "      <td>630</td>\n",
       "      <td>SBrkr</td>\n",
       "      <td>630</td>\n",
       "      <td>1</td>\n",
       "      <td>NaN</td>\n",
       "      <td>0</td>\n",
       "      <td>0</td>\n",
       "      <td>NaN</td>\n",
       "      <td>NaN</td>\n",
       "      <td>92000</td>\n",
       "    </tr>\n",
       "    <tr>\n",
       "      <th>1408</th>\n",
       "      <td>5</td>\n",
       "      <td>1974</td>\n",
       "      <td>896</td>\n",
       "      <td>SBrkr</td>\n",
       "      <td>1792</td>\n",
       "      <td>2</td>\n",
       "      <td>NaN</td>\n",
       "      <td>0</td>\n",
       "      <td>0</td>\n",
       "      <td>NaN</td>\n",
       "      <td>NaN</td>\n",
       "      <td>136000</td>\n",
       "    </tr>\n",
       "    <tr>\n",
       "      <th>1411</th>\n",
       "      <td>5</td>\n",
       "      <td>2006</td>\n",
       "      <td>1140</td>\n",
       "      <td>SBrkr</td>\n",
       "      <td>1140</td>\n",
       "      <td>1</td>\n",
       "      <td>NaN</td>\n",
       "      <td>0</td>\n",
       "      <td>0</td>\n",
       "      <td>NaN</td>\n",
       "      <td>NaN</td>\n",
       "      <td>84500</td>\n",
       "    </tr>\n",
       "    <tr>\n",
       "      <th>1416</th>\n",
       "      <td>5</td>\n",
       "      <td>1950</td>\n",
       "      <td>1078</td>\n",
       "      <td>FuseA</td>\n",
       "      <td>1078</td>\n",
       "      <td>1</td>\n",
       "      <td>NaN</td>\n",
       "      <td>1</td>\n",
       "      <td>240</td>\n",
       "      <td>NaN</td>\n",
       "      <td>NaN</td>\n",
       "      <td>142125</td>\n",
       "    </tr>\n",
       "  </tbody>\n",
       "</table>\n",
       "<p>143 rows × 12 columns</p>\n",
       "</div>"
      ],
      "text/plain": [
       "     OverallQual  YearBuilt  TotalBsmtSF Electrical  GrLivArea FullBath  \\\n",
       "8              5       1939          991      SBrkr       1077        1   \n",
       "22             5       1968         1060      SBrkr       1060        1   \n",
       "26             5       1957         1484      SBrkr       1600        1   \n",
       "37             4       1955            0      FuseP       1152        2   \n",
       "39             5       1959         1350      SBrkr       1328        1   \n",
       "...          ...        ...          ...        ...        ...      ...   \n",
       "1387           5       1940          788      SBrkr        804        1   \n",
       "1407           5       1970          630      SBrkr        630        1   \n",
       "1408           5       1974          896      SBrkr       1792        2   \n",
       "1411           5       2006         1140      SBrkr       1140        1   \n",
       "1416           5       1950         1078      FuseA       1078        1   \n",
       "\n",
       "     GarageType GarageCars  GarageArea  Fence MiscFeature  SalePrice  \n",
       "8           NaN          1         205    NaN         NaN     118000  \n",
       "22          NaN          1         270  MnPrv         NaN     154000  \n",
       "26          NaN          1         319    NaN         NaN     207500  \n",
       "37          NaN          0           0    NaN         NaN      82000  \n",
       "39          NaN          1         308    NaN         NaN     170000  \n",
       "...         ...        ...         ...    ...         ...        ...  \n",
       "1387        NaN          1         240  MnPrv         NaN     119000  \n",
       "1407        NaN          0           0    NaN         NaN      92000  \n",
       "1408        NaN          0           0    NaN         NaN     136000  \n",
       "1411        NaN          0           0    NaN         NaN      84500  \n",
       "1416        NaN          1         240    NaN         NaN     142125  \n",
       "\n",
       "[143 rows x 12 columns]"
      ]
     },
     "execution_count": 41,
     "metadata": {},
     "output_type": "execute_result"
    }
   ],
   "source": [
    "# Lets impute the values in garage Type\n",
    "data[data['GarageType'].isnull()]"
   ]
  },
  {
   "cell_type": "code",
   "execution_count": 42,
   "id": "dc09bcba",
   "metadata": {},
   "outputs": [],
   "source": [
    "data.loc[(data['GarageCars']==0)&(data['GarageArea']==0),'GarageType'] = 'NoGarage'"
   ]
  },
  {
   "cell_type": "code",
   "execution_count": 43,
   "id": "4dcb70b6",
   "metadata": {},
   "outputs": [
    {
     "data": {
      "text/plain": [
       "Attchd      800\n",
       "Detchd      354\n",
       "BuiltIn      87\n",
       "NoGarage     81\n",
       "Basment      19\n",
       "CarPort       9\n",
       "2Types        6\n",
       "Name: GarageType, dtype: int64"
      ]
     },
     "execution_count": 43,
     "metadata": {},
     "output_type": "execute_result"
    }
   ],
   "source": [
    "data['GarageType'].value_counts()"
   ]
  },
  {
   "cell_type": "code",
   "execution_count": 44,
   "id": "28447a1e",
   "metadata": {},
   "outputs": [
    {
     "data": {
      "text/html": [
       "<div>\n",
       "<style scoped>\n",
       "    .dataframe tbody tr th:only-of-type {\n",
       "        vertical-align: middle;\n",
       "    }\n",
       "\n",
       "    .dataframe tbody tr th {\n",
       "        vertical-align: top;\n",
       "    }\n",
       "\n",
       "    .dataframe thead th {\n",
       "        text-align: right;\n",
       "    }\n",
       "</style>\n",
       "<table border=\"1\" class=\"dataframe\">\n",
       "  <thead>\n",
       "    <tr style=\"text-align: right;\">\n",
       "      <th></th>\n",
       "      <th>OverallQual</th>\n",
       "      <th>YearBuilt</th>\n",
       "      <th>TotalBsmtSF</th>\n",
       "      <th>Electrical</th>\n",
       "      <th>GrLivArea</th>\n",
       "      <th>FullBath</th>\n",
       "      <th>GarageType</th>\n",
       "      <th>GarageCars</th>\n",
       "      <th>GarageArea</th>\n",
       "      <th>Fence</th>\n",
       "      <th>MiscFeature</th>\n",
       "      <th>SalePrice</th>\n",
       "    </tr>\n",
       "  </thead>\n",
       "  <tbody>\n",
       "    <tr>\n",
       "      <th>8</th>\n",
       "      <td>5</td>\n",
       "      <td>1939</td>\n",
       "      <td>991</td>\n",
       "      <td>SBrkr</td>\n",
       "      <td>1077</td>\n",
       "      <td>1</td>\n",
       "      <td>NaN</td>\n",
       "      <td>1</td>\n",
       "      <td>205</td>\n",
       "      <td>NaN</td>\n",
       "      <td>NaN</td>\n",
       "      <td>118000</td>\n",
       "    </tr>\n",
       "    <tr>\n",
       "      <th>22</th>\n",
       "      <td>5</td>\n",
       "      <td>1968</td>\n",
       "      <td>1060</td>\n",
       "      <td>SBrkr</td>\n",
       "      <td>1060</td>\n",
       "      <td>1</td>\n",
       "      <td>NaN</td>\n",
       "      <td>1</td>\n",
       "      <td>270</td>\n",
       "      <td>MnPrv</td>\n",
       "      <td>NaN</td>\n",
       "      <td>154000</td>\n",
       "    </tr>\n",
       "    <tr>\n",
       "      <th>26</th>\n",
       "      <td>5</td>\n",
       "      <td>1957</td>\n",
       "      <td>1484</td>\n",
       "      <td>SBrkr</td>\n",
       "      <td>1600</td>\n",
       "      <td>1</td>\n",
       "      <td>NaN</td>\n",
       "      <td>1</td>\n",
       "      <td>319</td>\n",
       "      <td>NaN</td>\n",
       "      <td>NaN</td>\n",
       "      <td>207500</td>\n",
       "    </tr>\n",
       "    <tr>\n",
       "      <th>39</th>\n",
       "      <td>5</td>\n",
       "      <td>1959</td>\n",
       "      <td>1350</td>\n",
       "      <td>SBrkr</td>\n",
       "      <td>1328</td>\n",
       "      <td>1</td>\n",
       "      <td>NaN</td>\n",
       "      <td>1</td>\n",
       "      <td>308</td>\n",
       "      <td>NaN</td>\n",
       "      <td>NaN</td>\n",
       "      <td>170000</td>\n",
       "    </tr>\n",
       "    <tr>\n",
       "      <th>47</th>\n",
       "      <td>5</td>\n",
       "      <td>1966</td>\n",
       "      <td>955</td>\n",
       "      <td>SBrkr</td>\n",
       "      <td>955</td>\n",
       "      <td>1</td>\n",
       "      <td>NaN</td>\n",
       "      <td>1</td>\n",
       "      <td>386</td>\n",
       "      <td>MnPrv</td>\n",
       "      <td>NaN</td>\n",
       "      <td>127000</td>\n",
       "    </tr>\n",
       "    <tr>\n",
       "      <th>...</th>\n",
       "      <td>...</td>\n",
       "      <td>...</td>\n",
       "      <td>...</td>\n",
       "      <td>...</td>\n",
       "      <td>...</td>\n",
       "      <td>...</td>\n",
       "      <td>...</td>\n",
       "      <td>...</td>\n",
       "      <td>...</td>\n",
       "      <td>...</td>\n",
       "      <td>...</td>\n",
       "      <td>...</td>\n",
       "    </tr>\n",
       "    <tr>\n",
       "      <th>1263</th>\n",
       "      <td>6</td>\n",
       "      <td>1942</td>\n",
       "      <td>771</td>\n",
       "      <td>SBrkr</td>\n",
       "      <td>1494</td>\n",
       "      <td>1</td>\n",
       "      <td>NaN</td>\n",
       "      <td>1</td>\n",
       "      <td>213</td>\n",
       "      <td>NaN</td>\n",
       "      <td>NaN</td>\n",
       "      <td>177500</td>\n",
       "    </tr>\n",
       "    <tr>\n",
       "      <th>1317</th>\n",
       "      <td>5</td>\n",
       "      <td>1966</td>\n",
       "      <td>864</td>\n",
       "      <td>SBrkr</td>\n",
       "      <td>892</td>\n",
       "      <td>1</td>\n",
       "      <td>NaN</td>\n",
       "      <td>1</td>\n",
       "      <td>264</td>\n",
       "      <td>GdWo</td>\n",
       "      <td>NaN</td>\n",
       "      <td>110000</td>\n",
       "    </tr>\n",
       "    <tr>\n",
       "      <th>1357</th>\n",
       "      <td>5</td>\n",
       "      <td>1950</td>\n",
       "      <td>1208</td>\n",
       "      <td>FuseA</td>\n",
       "      <td>1904</td>\n",
       "      <td>1</td>\n",
       "      <td>NaN</td>\n",
       "      <td>1</td>\n",
       "      <td>240</td>\n",
       "      <td>GdPrv</td>\n",
       "      <td>NaN</td>\n",
       "      <td>138000</td>\n",
       "    </tr>\n",
       "    <tr>\n",
       "      <th>1387</th>\n",
       "      <td>5</td>\n",
       "      <td>1940</td>\n",
       "      <td>788</td>\n",
       "      <td>SBrkr</td>\n",
       "      <td>804</td>\n",
       "      <td>1</td>\n",
       "      <td>NaN</td>\n",
       "      <td>1</td>\n",
       "      <td>240</td>\n",
       "      <td>MnPrv</td>\n",
       "      <td>NaN</td>\n",
       "      <td>119000</td>\n",
       "    </tr>\n",
       "    <tr>\n",
       "      <th>1416</th>\n",
       "      <td>5</td>\n",
       "      <td>1950</td>\n",
       "      <td>1078</td>\n",
       "      <td>FuseA</td>\n",
       "      <td>1078</td>\n",
       "      <td>1</td>\n",
       "      <td>NaN</td>\n",
       "      <td>1</td>\n",
       "      <td>240</td>\n",
       "      <td>NaN</td>\n",
       "      <td>NaN</td>\n",
       "      <td>142125</td>\n",
       "    </tr>\n",
       "  </tbody>\n",
       "</table>\n",
       "<p>62 rows × 12 columns</p>\n",
       "</div>"
      ],
      "text/plain": [
       "     OverallQual  YearBuilt  TotalBsmtSF Electrical  GrLivArea FullBath  \\\n",
       "8              5       1939          991      SBrkr       1077        1   \n",
       "22             5       1968         1060      SBrkr       1060        1   \n",
       "26             5       1957         1484      SBrkr       1600        1   \n",
       "39             5       1959         1350      SBrkr       1328        1   \n",
       "47             5       1966          955      SBrkr        955        1   \n",
       "...          ...        ...          ...        ...        ...      ...   \n",
       "1263           6       1942          771      SBrkr       1494        1   \n",
       "1317           5       1966          864      SBrkr        892        1   \n",
       "1357           5       1950         1208      FuseA       1904        1   \n",
       "1387           5       1940          788      SBrkr        804        1   \n",
       "1416           5       1950         1078      FuseA       1078        1   \n",
       "\n",
       "     GarageType GarageCars  GarageArea  Fence MiscFeature  SalePrice  \n",
       "8           NaN          1         205    NaN         NaN     118000  \n",
       "22          NaN          1         270  MnPrv         NaN     154000  \n",
       "26          NaN          1         319    NaN         NaN     207500  \n",
       "39          NaN          1         308    NaN         NaN     170000  \n",
       "47          NaN          1         386  MnPrv         NaN     127000  \n",
       "...         ...        ...         ...    ...         ...        ...  \n",
       "1263        NaN          1         213    NaN         NaN     177500  \n",
       "1317        NaN          1         264   GdWo         NaN     110000  \n",
       "1357        NaN          1         240  GdPrv         NaN     138000  \n",
       "1387        NaN          1         240  MnPrv         NaN     119000  \n",
       "1416        NaN          1         240    NaN         NaN     142125  \n",
       "\n",
       "[62 rows x 12 columns]"
      ]
     },
     "execution_count": 44,
     "metadata": {},
     "output_type": "execute_result"
    }
   ],
   "source": [
    "data[data['GarageType'].isnull()]"
   ]
  },
  {
   "cell_type": "code",
   "execution_count": 45,
   "id": "990ac7b6",
   "metadata": {},
   "outputs": [
    {
     "data": {
      "text/plain": [
       "'Detchd'"
      ]
     },
     "execution_count": 45,
     "metadata": {},
     "output_type": "execute_result"
    }
   ],
   "source": [
    "# Lets calculate the mode of garage type where garage cars is 1\n",
    "data[data['GarageCars']==1]['GarageType'].mode()[0]"
   ]
  },
  {
   "cell_type": "code",
   "execution_count": 46,
   "id": "fdfa33f4",
   "metadata": {},
   "outputs": [],
   "source": [
    "data['GarageType'].fillna(data[data['GarageCars']==1]['GarageType'].mode()[0],inplace=True)"
   ]
  },
  {
   "cell_type": "code",
   "execution_count": 47,
   "id": "e466ef64",
   "metadata": {},
   "outputs": [],
   "source": [
    "# Now lets impute the missing values in Misc Features and Fence"
   ]
  },
  {
   "cell_type": "code",
   "execution_count": 48,
   "id": "617d9a4f",
   "metadata": {},
   "outputs": [
    {
     "data": {
      "text/html": [
       "<div>\n",
       "<style scoped>\n",
       "    .dataframe tbody tr th:only-of-type {\n",
       "        vertical-align: middle;\n",
       "    }\n",
       "\n",
       "    .dataframe tbody tr th {\n",
       "        vertical-align: top;\n",
       "    }\n",
       "\n",
       "    .dataframe thead th {\n",
       "        text-align: right;\n",
       "    }\n",
       "</style>\n",
       "<table border=\"1\" class=\"dataframe\">\n",
       "  <thead>\n",
       "    <tr style=\"text-align: right;\">\n",
       "      <th></th>\n",
       "      <th>OverallQual</th>\n",
       "      <th>YearBuilt</th>\n",
       "      <th>TotalBsmtSF</th>\n",
       "      <th>Electrical</th>\n",
       "      <th>GrLivArea</th>\n",
       "      <th>FullBath</th>\n",
       "      <th>GarageType</th>\n",
       "      <th>GarageCars</th>\n",
       "      <th>GarageArea</th>\n",
       "      <th>Fence</th>\n",
       "      <th>MiscFeature</th>\n",
       "      <th>SalePrice</th>\n",
       "    </tr>\n",
       "  </thead>\n",
       "  <tbody>\n",
       "    <tr>\n",
       "      <th>0</th>\n",
       "      <td>7</td>\n",
       "      <td>2003</td>\n",
       "      <td>856</td>\n",
       "      <td>SBrkr</td>\n",
       "      <td>1710</td>\n",
       "      <td>2</td>\n",
       "      <td>Attchd</td>\n",
       "      <td>2</td>\n",
       "      <td>548</td>\n",
       "      <td>NaN</td>\n",
       "      <td>NaN</td>\n",
       "      <td>208500</td>\n",
       "    </tr>\n",
       "    <tr>\n",
       "      <th>1</th>\n",
       "      <td>6</td>\n",
       "      <td>1976</td>\n",
       "      <td>1262</td>\n",
       "      <td>SBrkr</td>\n",
       "      <td>1262</td>\n",
       "      <td>2</td>\n",
       "      <td>Attchd</td>\n",
       "      <td>2</td>\n",
       "      <td>460</td>\n",
       "      <td>NaN</td>\n",
       "      <td>NaN</td>\n",
       "      <td>181500</td>\n",
       "    </tr>\n",
       "    <tr>\n",
       "      <th>2</th>\n",
       "      <td>7</td>\n",
       "      <td>2001</td>\n",
       "      <td>920</td>\n",
       "      <td>SBrkr</td>\n",
       "      <td>1786</td>\n",
       "      <td>2</td>\n",
       "      <td>Attchd</td>\n",
       "      <td>2</td>\n",
       "      <td>608</td>\n",
       "      <td>NaN</td>\n",
       "      <td>NaN</td>\n",
       "      <td>223500</td>\n",
       "    </tr>\n",
       "    <tr>\n",
       "      <th>3</th>\n",
       "      <td>7</td>\n",
       "      <td>1915</td>\n",
       "      <td>756</td>\n",
       "      <td>SBrkr</td>\n",
       "      <td>1717</td>\n",
       "      <td>1</td>\n",
       "      <td>Detchd</td>\n",
       "      <td>3</td>\n",
       "      <td>642</td>\n",
       "      <td>NaN</td>\n",
       "      <td>NaN</td>\n",
       "      <td>140000</td>\n",
       "    </tr>\n",
       "    <tr>\n",
       "      <th>4</th>\n",
       "      <td>8</td>\n",
       "      <td>2000</td>\n",
       "      <td>1145</td>\n",
       "      <td>SBrkr</td>\n",
       "      <td>2198</td>\n",
       "      <td>2</td>\n",
       "      <td>Attchd</td>\n",
       "      <td>3</td>\n",
       "      <td>836</td>\n",
       "      <td>NaN</td>\n",
       "      <td>NaN</td>\n",
       "      <td>250000</td>\n",
       "    </tr>\n",
       "    <tr>\n",
       "      <th>...</th>\n",
       "      <td>...</td>\n",
       "      <td>...</td>\n",
       "      <td>...</td>\n",
       "      <td>...</td>\n",
       "      <td>...</td>\n",
       "      <td>...</td>\n",
       "      <td>...</td>\n",
       "      <td>...</td>\n",
       "      <td>...</td>\n",
       "      <td>...</td>\n",
       "      <td>...</td>\n",
       "      <td>...</td>\n",
       "    </tr>\n",
       "    <tr>\n",
       "      <th>1413</th>\n",
       "      <td>6</td>\n",
       "      <td>1999</td>\n",
       "      <td>953</td>\n",
       "      <td>SBrkr</td>\n",
       "      <td>1647</td>\n",
       "      <td>2</td>\n",
       "      <td>Attchd</td>\n",
       "      <td>2</td>\n",
       "      <td>460</td>\n",
       "      <td>NaN</td>\n",
       "      <td>NaN</td>\n",
       "      <td>175000</td>\n",
       "    </tr>\n",
       "    <tr>\n",
       "      <th>1414</th>\n",
       "      <td>6</td>\n",
       "      <td>1978</td>\n",
       "      <td>1542</td>\n",
       "      <td>SBrkr</td>\n",
       "      <td>2073</td>\n",
       "      <td>2</td>\n",
       "      <td>Attchd</td>\n",
       "      <td>2</td>\n",
       "      <td>500</td>\n",
       "      <td>MnPrv</td>\n",
       "      <td>NaN</td>\n",
       "      <td>210000</td>\n",
       "    </tr>\n",
       "    <tr>\n",
       "      <th>1415</th>\n",
       "      <td>7</td>\n",
       "      <td>1941</td>\n",
       "      <td>1152</td>\n",
       "      <td>SBrkr</td>\n",
       "      <td>2340</td>\n",
       "      <td>2</td>\n",
       "      <td>Attchd</td>\n",
       "      <td>1</td>\n",
       "      <td>252</td>\n",
       "      <td>GdPrv</td>\n",
       "      <td>Shed</td>\n",
       "      <td>266500</td>\n",
       "    </tr>\n",
       "    <tr>\n",
       "      <th>1416</th>\n",
       "      <td>5</td>\n",
       "      <td>1950</td>\n",
       "      <td>1078</td>\n",
       "      <td>FuseA</td>\n",
       "      <td>1078</td>\n",
       "      <td>1</td>\n",
       "      <td>Detchd</td>\n",
       "      <td>1</td>\n",
       "      <td>240</td>\n",
       "      <td>NaN</td>\n",
       "      <td>NaN</td>\n",
       "      <td>142125</td>\n",
       "    </tr>\n",
       "    <tr>\n",
       "      <th>1417</th>\n",
       "      <td>5</td>\n",
       "      <td>1965</td>\n",
       "      <td>1256</td>\n",
       "      <td>SBrkr</td>\n",
       "      <td>1256</td>\n",
       "      <td>1</td>\n",
       "      <td>Attchd</td>\n",
       "      <td>1</td>\n",
       "      <td>276</td>\n",
       "      <td>NaN</td>\n",
       "      <td>NaN</td>\n",
       "      <td>147500</td>\n",
       "    </tr>\n",
       "  </tbody>\n",
       "</table>\n",
       "<p>1418 rows × 12 columns</p>\n",
       "</div>"
      ],
      "text/plain": [
       "     OverallQual  YearBuilt  TotalBsmtSF Electrical  GrLivArea FullBath  \\\n",
       "0              7       2003          856      SBrkr       1710        2   \n",
       "1              6       1976         1262      SBrkr       1262        2   \n",
       "2              7       2001          920      SBrkr       1786        2   \n",
       "3              7       1915          756      SBrkr       1717        1   \n",
       "4              8       2000         1145      SBrkr       2198        2   \n",
       "...          ...        ...          ...        ...        ...      ...   \n",
       "1413           6       1999          953      SBrkr       1647        2   \n",
       "1414           6       1978         1542      SBrkr       2073        2   \n",
       "1415           7       1941         1152      SBrkr       2340        2   \n",
       "1416           5       1950         1078      FuseA       1078        1   \n",
       "1417           5       1965         1256      SBrkr       1256        1   \n",
       "\n",
       "     GarageType GarageCars  GarageArea  Fence MiscFeature  SalePrice  \n",
       "0        Attchd          2         548    NaN         NaN     208500  \n",
       "1        Attchd          2         460    NaN         NaN     181500  \n",
       "2        Attchd          2         608    NaN         NaN     223500  \n",
       "3        Detchd          3         642    NaN         NaN     140000  \n",
       "4        Attchd          3         836    NaN         NaN     250000  \n",
       "...         ...        ...         ...    ...         ...        ...  \n",
       "1413     Attchd          2         460    NaN         NaN     175000  \n",
       "1414     Attchd          2         500  MnPrv         NaN     210000  \n",
       "1415     Attchd          1         252  GdPrv        Shed     266500  \n",
       "1416     Detchd          1         240    NaN         NaN     142125  \n",
       "1417     Attchd          1         276    NaN         NaN     147500  \n",
       "\n",
       "[1418 rows x 12 columns]"
      ]
     },
     "execution_count": 48,
     "metadata": {},
     "output_type": "execute_result"
    }
   ],
   "source": [
    "data"
   ]
  },
  {
   "cell_type": "code",
   "execution_count": 49,
   "id": "c926e358",
   "metadata": {},
   "outputs": [
    {
     "data": {
      "text/plain": [
       "MnPrv    148\n",
       "GdPrv     58\n",
       "GdWo      53\n",
       "MnWw      11\n",
       "Name: Fence, dtype: int64"
      ]
     },
     "execution_count": 49,
     "metadata": {},
     "output_type": "execute_result"
    }
   ],
   "source": [
    "# Lets do the imputations in fence\n",
    "data['Fence'].value_counts()"
   ]
  },
  {
   "cell_type": "code",
   "execution_count": 50,
   "id": "3f7b3b66",
   "metadata": {},
   "outputs": [],
   "source": [
    "data['Fence'] = np.where(data['Fence'].isnull(),0,1)"
   ]
  },
  {
   "cell_type": "code",
   "execution_count": 51,
   "id": "d8979381",
   "metadata": {},
   "outputs": [
    {
     "data": {
      "text/plain": [
       "0    1148\n",
       "1     270\n",
       "Name: Fence, dtype: int64"
      ]
     },
     "execution_count": 51,
     "metadata": {},
     "output_type": "execute_result"
    }
   ],
   "source": [
    "data['Fence'].value_counts()"
   ]
  },
  {
   "cell_type": "code",
   "execution_count": 52,
   "id": "cf68c219",
   "metadata": {},
   "outputs": [
    {
     "data": {
      "text/plain": [
       "ShapiroResult(statistic=0.7092496156692505, pvalue=2.283013441936563e-21)"
      ]
     },
     "execution_count": 52,
     "metadata": {},
     "output_type": "execute_result"
    }
   ],
   "source": [
    "stats.shapiro(data[data['Fence']==1]['SalePrice'])"
   ]
  },
  {
   "cell_type": "code",
   "execution_count": 53,
   "id": "2636541c",
   "metadata": {},
   "outputs": [],
   "source": [
    "samp1 = data[data['Fence']==1]['SalePrice']\n",
    "samp2 = data[data['Fence']==0]['SalePrice']\n",
    "_,p = stats.mannwhitneyu(samp1,samp2)"
   ]
  },
  {
   "cell_type": "code",
   "execution_count": 54,
   "id": "caee4b4e",
   "metadata": {},
   "outputs": [
    {
     "name": "stdout",
     "output_type": "stream",
     "text": [
      "Reject H0: There is relation between SalePrice and Fence\n"
     ]
    }
   ],
   "source": [
    "if p<0.05:\n",
    "    print('Reject H0: There is relation between SalePrice and Fence')\n",
    "else:\n",
    "    print('Fail to reject H0: There is no relation between SalePrice and Fence')"
   ]
  },
  {
   "cell_type": "code",
   "execution_count": 55,
   "id": "189f7750",
   "metadata": {},
   "outputs": [
    {
     "data": {
      "text/html": [
       "<div>\n",
       "<style scoped>\n",
       "    .dataframe tbody tr th:only-of-type {\n",
       "        vertical-align: middle;\n",
       "    }\n",
       "\n",
       "    .dataframe tbody tr th {\n",
       "        vertical-align: top;\n",
       "    }\n",
       "\n",
       "    .dataframe thead th {\n",
       "        text-align: right;\n",
       "    }\n",
       "</style>\n",
       "<table border=\"1\" class=\"dataframe\">\n",
       "  <thead>\n",
       "    <tr style=\"text-align: right;\">\n",
       "      <th></th>\n",
       "      <th>OverallQual</th>\n",
       "      <th>YearBuilt</th>\n",
       "      <th>TotalBsmtSF</th>\n",
       "      <th>Electrical</th>\n",
       "      <th>GrLivArea</th>\n",
       "      <th>FullBath</th>\n",
       "      <th>GarageType</th>\n",
       "      <th>GarageCars</th>\n",
       "      <th>GarageArea</th>\n",
       "      <th>Fence</th>\n",
       "      <th>MiscFeature</th>\n",
       "      <th>SalePrice</th>\n",
       "    </tr>\n",
       "  </thead>\n",
       "  <tbody>\n",
       "    <tr>\n",
       "      <th>0</th>\n",
       "      <td>7</td>\n",
       "      <td>2003</td>\n",
       "      <td>856</td>\n",
       "      <td>SBrkr</td>\n",
       "      <td>1710</td>\n",
       "      <td>2</td>\n",
       "      <td>Attchd</td>\n",
       "      <td>2</td>\n",
       "      <td>548</td>\n",
       "      <td>0</td>\n",
       "      <td>NaN</td>\n",
       "      <td>208500</td>\n",
       "    </tr>\n",
       "    <tr>\n",
       "      <th>1</th>\n",
       "      <td>6</td>\n",
       "      <td>1976</td>\n",
       "      <td>1262</td>\n",
       "      <td>SBrkr</td>\n",
       "      <td>1262</td>\n",
       "      <td>2</td>\n",
       "      <td>Attchd</td>\n",
       "      <td>2</td>\n",
       "      <td>460</td>\n",
       "      <td>0</td>\n",
       "      <td>NaN</td>\n",
       "      <td>181500</td>\n",
       "    </tr>\n",
       "    <tr>\n",
       "      <th>2</th>\n",
       "      <td>7</td>\n",
       "      <td>2001</td>\n",
       "      <td>920</td>\n",
       "      <td>SBrkr</td>\n",
       "      <td>1786</td>\n",
       "      <td>2</td>\n",
       "      <td>Attchd</td>\n",
       "      <td>2</td>\n",
       "      <td>608</td>\n",
       "      <td>0</td>\n",
       "      <td>NaN</td>\n",
       "      <td>223500</td>\n",
       "    </tr>\n",
       "    <tr>\n",
       "      <th>3</th>\n",
       "      <td>7</td>\n",
       "      <td>1915</td>\n",
       "      <td>756</td>\n",
       "      <td>SBrkr</td>\n",
       "      <td>1717</td>\n",
       "      <td>1</td>\n",
       "      <td>Detchd</td>\n",
       "      <td>3</td>\n",
       "      <td>642</td>\n",
       "      <td>0</td>\n",
       "      <td>NaN</td>\n",
       "      <td>140000</td>\n",
       "    </tr>\n",
       "    <tr>\n",
       "      <th>4</th>\n",
       "      <td>8</td>\n",
       "      <td>2000</td>\n",
       "      <td>1145</td>\n",
       "      <td>SBrkr</td>\n",
       "      <td>2198</td>\n",
       "      <td>2</td>\n",
       "      <td>Attchd</td>\n",
       "      <td>3</td>\n",
       "      <td>836</td>\n",
       "      <td>0</td>\n",
       "      <td>NaN</td>\n",
       "      <td>250000</td>\n",
       "    </tr>\n",
       "  </tbody>\n",
       "</table>\n",
       "</div>"
      ],
      "text/plain": [
       "  OverallQual  YearBuilt  TotalBsmtSF Electrical  GrLivArea FullBath  \\\n",
       "0           7       2003          856      SBrkr       1710        2   \n",
       "1           6       1976         1262      SBrkr       1262        2   \n",
       "2           7       2001          920      SBrkr       1786        2   \n",
       "3           7       1915          756      SBrkr       1717        1   \n",
       "4           8       2000         1145      SBrkr       2198        2   \n",
       "\n",
       "  GarageType GarageCars  GarageArea  Fence MiscFeature  SalePrice  \n",
       "0     Attchd          2         548      0         NaN     208500  \n",
       "1     Attchd          2         460      0         NaN     181500  \n",
       "2     Attchd          2         608      0         NaN     223500  \n",
       "3     Detchd          3         642      0         NaN     140000  \n",
       "4     Attchd          3         836      0         NaN     250000  "
      ]
     },
     "execution_count": 55,
     "metadata": {},
     "output_type": "execute_result"
    }
   ],
   "source": [
    "data.head()"
   ]
  },
  {
   "cell_type": "code",
   "execution_count": null,
   "id": "62e5908a",
   "metadata": {},
   "outputs": [],
   "source": []
  }
 ],
 "metadata": {
  "kernelspec": {
   "display_name": "Python 3 (ipykernel)",
   "language": "python",
   "name": "python3"
  },
  "language_info": {
   "codemirror_mode": {
    "name": "ipython",
    "version": 3
   },
   "file_extension": ".py",
   "mimetype": "text/x-python",
   "name": "python",
   "nbconvert_exporter": "python",
   "pygments_lexer": "ipython3",
   "version": "3.9.13"
  }
 },
 "nbformat": 4,
 "nbformat_minor": 5
}
